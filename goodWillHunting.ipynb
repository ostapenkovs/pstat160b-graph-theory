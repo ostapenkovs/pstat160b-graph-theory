{
 "cells": [
  {
   "cell_type": "code",
   "execution_count": 99,
   "metadata": {},
   "outputs": [],
   "source": [
    "# Imports\n",
    "import networkx as nx\n",
    "import numpy as np\n",
    "import pandas as pd\n",
    "import matplotlib.pyplot as plt\n",
    "import matplotlib.animation as animation\n",
    "from itertools import combinations, groupby\n",
    "import random"
   ]
  },
  {
   "cell_type": "code",
   "execution_count": 100,
   "metadata": {},
   "outputs": [],
   "source": [
    "def get_d(A):\n",
    "    # Diagonal degree matrix of A\n",
    "    D = np.diag(np.sum(A, axis=0))\n",
    "    return D"
   ]
  },
  {
   "cell_type": "code",
   "execution_count": 101,
   "metadata": {},
   "outputs": [],
   "source": [
    "def get_p(A, D):\n",
    "    # Transition probability matrix from scaling all adjacencies with 1/degree\n",
    "    P = np.matmul(np.linalg.inv(D), A)\n",
    "    return P"
   ]
  },
  {
   "cell_type": "code",
   "execution_count": 102,
   "metadata": {},
   "outputs": [],
   "source": [
    "def get_g(A):\n",
    "    # Create networkx graph from adjacency matrix\n",
    "    G = nx.from_numpy_matrix(A, parallel_edges=True, create_using=nx.MultiGraph())\n",
    "    return G"
   ]
  },
  {
   "cell_type": "code",
   "execution_count": 103,
   "metadata": {},
   "outputs": [],
   "source": [
    "def calculate_pi(P):\n",
    "    # approximate stationary distribution of Markov Chain\n",
    "    return [round(x, 3) for x in list(np.linalg.matrix_power(P, 10000)[0])]"
   ]
  },
  {
   "cell_type": "code",
   "execution_count": 104,
   "metadata": {},
   "outputs": [],
   "source": [
    "def graph_rw_sim(nsim, n, P, G, from_pi=False):\n",
    "    # nsim different random walks of length n on G\n",
    "    all_walks = []\n",
    "    ps = P.shape[0]\n",
    "    if from_pi == True:\n",
    "        pi = calculate_pi(P)\n",
    "    \n",
    "    for _ in range(nsim):\n",
    "        walk = np.zeros(n+1)\n",
    "        if from_pi == False:\n",
    "            v0 = np.random.choice(sorted(G.nodes()), p=[.25, .25, .25, .25])\n",
    "        else:\n",
    "            v0 = np.random.choice(sorted(G.nodes()), p=pi)\n",
    "            \n",
    "        walk[0] = v0\n",
    "\n",
    "        current = v0-1\n",
    "        for k in range(1, n+1):\n",
    "            vk = np.random.choice(range(ps), 1, p=P[current])\n",
    "            current = vk[0]\n",
    "            walk[k] = current+1\n",
    "    \n",
    "        all_walks.append(walk)\n",
    "\n",
    "    simulation_data = pd.DataFrame(all_walks).T\n",
    "    return simulation_data"
   ]
  },
  {
   "cell_type": "code",
   "execution_count": 105,
   "metadata": {},
   "outputs": [],
   "source": [
    "def plot_graph_rw_sim(data):\n",
    "    colors = ['lightcoral', 'plum', 'cornflowerblue']\n",
    "    for i in range(len(data.columns)):\n",
    "        plt.figure(figsize = (10, 5))\n",
    "        plt.plot(data[i], color = colors[i])\n",
    "        plt.title('50-Step Random Walk on Good Will Hunting Graph ' + str(i+1))\n",
    "        plt.xlabel('discrete time-step')\n",
    "        plt.ylabel('vertex')\n",
    "        plt.yticks([1,2,3,4])\n",
    "        filename = ('rw_sim_graph' + str(i+1) + '.png')\n",
    "        plt.savefig(filename, dpi = 300)\n",
    "        plt.show()"
   ]
  },
  {
   "cell_type": "code",
   "execution_count": 106,
   "metadata": {},
   "outputs": [],
   "source": [
    "def graph_rw_cover_time_sim(nsim, P, G, from_pi=False):\n",
    "    # nsim cover times for random walk on G\n",
    "    node_set = set(sorted(G.nodes()))\n",
    "    all_cover_times = []\n",
    "    ps = P.shape[0]\n",
    "    if from_pi == True:\n",
    "        pi = calculate_pi(P)\n",
    "\n",
    "    for _ in range(nsim):\n",
    "        if from_pi == False:\n",
    "            v0 = np.random.choice(sorted(G.nodes()), p=[.25, .25, .25, .25])\n",
    "        else:\n",
    "            v0 = np.random.choice(sorted(G.nodes()), p=pi)\n",
    "        \n",
    "        current = v0-1\n",
    "        done = False\n",
    "        visited = [v0]\n",
    "        k = 0\n",
    "        while not done:\n",
    "            vk = np.random.choice(range(ps), 1, p=P[current])\n",
    "            current = vk[0]\n",
    "            visited.append(current+1)\n",
    "\n",
    "            if(node_set == set(sorted(visited))):\n",
    "                done = True\n",
    "            else:\n",
    "                k+=1\n",
    "    \n",
    "        all_cover_times.append(k)\n",
    "    \n",
    "    return all_cover_times"
   ]
  },
  {
   "cell_type": "code",
   "execution_count": 107,
   "metadata": {},
   "outputs": [],
   "source": [
    "def expected_cover_time_mc(data):\n",
    "    # expected cover time based on Monte Carlo\n",
    "    return np.mean(data)"
   ]
  },
  {
   "cell_type": "code",
   "execution_count": 108,
   "metadata": {},
   "outputs": [],
   "source": [
    "def simple_update(k, pos, G, ax, rw_realization):\n",
    "    # used for making a gif of a single random walk realization\n",
    "    ax.clear()\n",
    "\n",
    "    nx.draw_networkx(G, pos=pos, with_labels=True)\n",
    "    nx.draw_networkx(G.subgraph(rw_realization[k]), pos=pos, node_color=\"red\")\n",
    "    \n",
    "    ax.set_title(\"Time-step %d\" % k)"
   ]
  },
  {
   "cell_type": "code",
   "execution_count": 109,
   "metadata": {},
   "outputs": [],
   "source": [
    "def gnp_random_connected_graph(n, p):\n",
    "    # Generate random undirected connected graph\n",
    "    edges = combinations(range(n), 2)\n",
    "    G = nx.Graph()\n",
    "    G.add_nodes_from(range(n))\n",
    "    if p <= 0:\n",
    "        return G\n",
    "    if p >= 1:\n",
    "        return nx.complete_graph(n, create_using=G)\n",
    "    for _, node_edges in groupby(edges, key=lambda x: x[0]):\n",
    "        node_edges = list(node_edges)\n",
    "        random_edge = random.choice(node_edges)\n",
    "        G.add_edge(*random_edge)\n",
    "        for e in node_edges:\n",
    "            if random.random() < p:\n",
    "                G.add_edge(*e)\n",
    "    return G"
   ]
  },
  {
   "cell_type": "code",
   "execution_count": 110,
   "metadata": {},
   "outputs": [],
   "source": [
    "def expected_cover_time_barplot(d):\n",
    "    plt.figure(figsize=(10, 5))\n",
    "    plt.bar(d.keys(), d.values(), color = ['pink', 'thistle', 'powderblue', 'salmon', 'bisque', 'plum', 'lightsteelblue', 'palevioletred'])\n",
    "    plt.title('Barplot of Expected Cover Times')\n",
    "    plt.xlabel('graph type')\n",
    "    plt.ylabel('expected cover time')\n",
    "    plt.savefig('cover_time_hist.png', dpi = 300)\n",
    "    plt.show()"
   ]
  },
  {
   "cell_type": "code",
   "execution_count": 111,
   "metadata": {},
   "outputs": [],
   "source": [
    "def main():\n",
    "    # Good Will Hunting problem adjacency matrix\n",
    "    A = np.array([[0, 1, 0, 1], #1\n",
    "                [1, 0, 2, 1], #2\n",
    "                [0, 2, 0, 0], #3\n",
    "                [1, 1, 0, 0]]) #4\n",
    "    \n",
    "    D = get_d(A)\n",
    "    P = get_p(A, D)\n",
    "    G = get_g(A)\n",
    "    \n",
    "    # Relabel vertices in accordance with paper\n",
    "    mapping = {3:1, 0:4, 1:2, 2:3}\n",
    "    G = nx.relabel_nodes(G, mapping)\n",
    "    \"\"\"\n",
    "    # Simulate 3 random walks of length 50\n",
    "    NWALKS = 3\n",
    "    WALKLEN = 50\n",
    "    data = graph_rw_sim(NWALKS, WALKLEN, P, G, from_pi=False).astype(int)\n",
    "    plot_graph_rw_sim(data)\n",
    "\n",
    "    # Animate and save the random walk realizations\n",
    "    pos = nx.spring_layout(G)\n",
    "    figure, axes = plt.subplots(figsize=(10, 10))\n",
    "    \n",
    "    for i, col in enumerate(data.columns):\n",
    "        ani = animation.FuncAnimation(figure, simple_update, frames=WALKLEN+1, fargs=(pos, G, axes, data[col]))\n",
    "        ani.save(\"./rw_animation_data/rw_realization\" + str(i+1) + \".gif\", writer=\"Pillow\", dpi = 300)\n",
    "    \"\"\"\n",
    "    # Cover time simulations\n",
    "    # First use Good Will Hunting graph with random uniform start and random stationary start\n",
    "    all_expected_cover_times = {}\n",
    "    NSIM=2500\n",
    "    plt.hist(graph_rw_cover_time_sim(NSIM, P, G, from_pi=False), bins=20)\n",
    "    plt.show()\n",
    "    \"\"\"\n",
    "    gwh_expected_cover_time = expected_cover_time_mc(graph_rw_cover_time_sim(NSIM, P, G, from_pi=False))\n",
    "    \"\"\"\n",
    "    \"\"\"\n",
    "    gwh_expected_cover_time_pi = expected_cover_time_mc(graph_rw_cover_time_sim(NSIM, P, G, from_pi=True))\n",
    "    print(\"Expected cover time (GWH, random uniform start) is: %.2f\" % gwh_expected_cover_time)\n",
    "    print(\"Expected cover time (GWH, random stationary start) is: %.2f\" % gwh_expected_cover_time_pi)\n",
    "    all_expected_cover_times[\"GWH\"] = gwh_expected_cover_time\n",
    "    all_expected_cover_times[\"GWH pi\"] = gwh_expected_cover_time_pi\n",
    "\n",
    "    # More cover time simulations with other graphs of size 4 and different structures to analyze relative cover times\n",
    "    G_complete = nx.complete_graph(4)\n",
    "    G_lollipop = nx.lollipop_graph(3, 1)\n",
    "    G_star = nx.star_graph(3)\n",
    "    G_tree = nx.random_tree(4)\n",
    "    G_regular = nx.random_regular_graph(2, 4)\n",
    "    G_random = gnp_random_connected_graph(4, .5)\n",
    "\n",
    "    all_graphs = {\"Complete\":G_complete, \"Lollipop\":G_lollipop, \"Star\":G_star, \"Tree\":G_tree, \"Regular\":G_regular, \"Random\":G_random}\n",
    "    for key in all_graphs.keys():\n",
    "        all_graphs[key] = nx.convert_node_labels_to_integers(all_graphs[key], 1)\n",
    "        \n",
    "        A_rand = np.array(nx.adjacency_matrix(all_graphs[key]).todense())\n",
    "        D_rand = get_d(A_rand)\n",
    "        P_rand = get_p(A_rand, D_rand)\n",
    "        rand_expected_cover_time = expected_cover_time_mc(graph_rw_cover_time_sim(NSIM, P_rand, all_graphs[key], from_pi=False))\n",
    "        all_expected_cover_times[key] = rand_expected_cover_time\n",
    "        print(\"Expected cover time (\" + key + \") is: %.2f\" % rand_expected_cover_time)\n",
    "    \n",
    "    # Plot histogram of cover times\n",
    "    expected_cover_time_barplot(all_expected_cover_times)\n",
    "    \"\"\""
   ]
  },
  {
   "cell_type": "code",
   "execution_count": 112,
   "metadata": {},
   "outputs": [
    {
     "data": {
      "image/png": "[encoded data removed]",
      "text/plain": [
       "<Figure size 432x288 with 1 Axes>"
      ]
     },
     "metadata": {
      "needs_background": "light"
     },
     "output_type": "display_data"
    }
   ],
   "source": [
    "if __name__ == \"__main__\":\n",
    "    main()"
   ]
  }
 ],
 "metadata": {
  "interpreter": {
   "hash": "a4afc79b0c02ab069aa09a3d2626d604a8c14d9b31702daa5ca74178d24e4259"
  },
  "kernelspec": {
   "display_name": "Python 3.9.7 64-bit ('.venv': venv)",
   "name": "python3"
  },
  "language_info": {
   "codemirror_mode": {
    "name": "ipython",
    "version": 3
   },
   "file_extension": ".py",
   "mimetype": "text/x-python",
   "name": "python",
   "nbconvert_exporter": "python",
   "pygments_lexer": "ipython3",
   "version": "3.9.7"
  },
  "orig_nbformat": 4
 },
 "nbformat": 4,
 "nbformat_minor": 2
}
